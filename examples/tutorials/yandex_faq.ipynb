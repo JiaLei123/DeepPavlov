{
 "cells": [
  {
   "cell_type": "markdown",
   "metadata": {},
   "source": [
    "# Tutorial on connecting DeepPavlov bot to Yandex.Alice\n",
    "In this tutorial we show how to develop a simple bot and connect it to Yandex.Alice. Our bot is able to greet, say goodbye, and answer questions based on an FAQ list. In our case we take typical questions of MIPT entrant as an example. This list consists of 15 questions with corresponding answers with manually generated 4-6 paraphrases for each question. More details on how to build bots with DeepPavlov can be found [here](https://medium.com/deeppavlov)."
   ]
  },
  {
   "cell_type": "markdown",
   "metadata": {},
   "source": [
    "## Requirements\n",
    "\n",
    "To connect your bot to Yandex.Alice you need to have a dedicated IP address. You also need to create an ssl certificate and a key (more details in corresponding section).\n",
    "\n",
    "First, create a virtual env with python3.6 (`source activate py36`). Then download DeepPavlov"
   ]
  },
  {
   "cell_type": "code",
   "execution_count": null,
   "metadata": {},
   "outputs": [],
   "source": [
    "!pip install -q deeppavlov"
   ]
  },
  {
   "cell_type": "markdown",
   "metadata": {},
   "source": [
    "## Implementation"
   ]
  },
  {
   "cell_type": "markdown",
   "metadata": {},
   "source": [
    "Create skills for greeting, saying goodbye, and fallback (in case a bot doesn't have an appropriate answer)."
   ]
  },
  {
   "cell_type": "code",
   "execution_count": null,
   "metadata": {},
   "outputs": [],
   "source": [
    "from deeppavlov.skills.pattern_matching_skill import PatternMatchingSkill\n",
    "\n",
    "hello = PatternMatchingSkill(responses=['Привет!', 'Приветик', 'Здравствуйте', 'Добрый день'],\n",
    "\tpatterns=['Привет', 'Здравствуйте', 'Добрый день'])\n",
    "bye = PatternMatchingSkill(responses=['Пока!', 'До свидания, надеюсь смог вам помочь', 'До встречи!'],\n",
    "\tpatterns=['До свидания', 'Пока', 'Спасибо за помощь'])\n",
    "fallback = PatternMatchingSkill(responses=['Я не понял, но могу попробовать ответить на другой вопрос',\n",
    "\t'Я не понял, задайте другой вопрос'], default_confidence = 0.5)"
   ]
  },
  {
   "cell_type": "markdown",
   "metadata": {},
   "source": [
    "Download '.csv' table with questions and answers"
   ]
  },
  {
   "cell_type": "code",
   "execution_count": null,
   "metadata": {},
   "outputs": [],
   "source": [
    "import pandas as pd\n",
    "faq_table = pd.read_csv('http://files.deeppavlov.ai/faq/school/faq_school.csv')\n",
    "# You may also specify path to a local file instead of a link\n",
    "faq_table[:10]"
   ]
  },
  {
   "cell_type": "markdown",
   "metadata": {},
   "source": [
    "There is a skill, that can recognize user intents and respond with a corresponding message. It's perfectly suitable for an FAQ task. It has the following arguments:\n",
    "1. `data_path` - path/link to '.csv' table\n",
    "2. `x_col_name` - name of the questions column in the table\n",
    "3. `y_col_name` - name of the answers column in the table\n",
    "4. `edit_dict` - dict of edits of the skill configuration file\n",
    "5. `save_load_path` - path, where models will be saved or loaded from\n",
    "6. `train` - should model be trained or not"
   ]
  },
  {
   "cell_type": "code",
   "execution_count": null,
   "metadata": {},
   "outputs": [],
   "source": [
    "from deeppavlov.contrib.skills.similarity_matching_skill import SimilarityMatchingSkill\n",
    "\n",
    "faq = SimilarityMatchingSkill(data_path = 'http://files.deeppavlov.ai/faq/school/faq_school.csv',\n",
    "                              x_col_name = 'Question', \n",
    "                              y_col_name = 'Answer',\n",
    "                              save_load_path = './faq_school',\n",
    "                              config_type = 'tfidf_autofaq',\n",
    "                              train = True)"
   ]
  },
  {
   "cell_type": "markdown",
   "metadata": {},
   "source": [
    "This code takes an existing model and trains it with your data. Once you've trained your model, you can load it without trainig, simply writing `faq = SimilarityMatchingSkill(load_path='./faq_doctor')`. `SimilarityMatchingSkill` is a simple wraper of configuration files, that describes intent recognition models. `edit_dict` contains the part that should be changed in the configuration file. More information about the configuration files you can find [here](http://docs.deeppavlov.ai/en/0.1.6/intro/config_description.html)."
   ]
  },
  {
   "cell_type": "markdown",
   "metadata": {},
   "source": [
    "The last step is to bring all skills together using Agent."
   ]
  },
  {
   "cell_type": "code",
   "execution_count": null,
   "metadata": {},
   "outputs": [],
   "source": [
    "from deeppavlov.agents.default_agent.default_agent import DefaultAgent\n",
    "from deeppavlov.agents.processors.highest_confidence_selector import HighestConfidenceSelector\n",
    "\n",
    "agent = DefaultAgent([hello, bye, faq, fallback], skills_selector=HighestConfidenceSelector())"
   ]
  },
  {
   "cell_type": "markdown",
   "metadata": {},
   "source": [
    "Check that everything works correctly. Agent is able to receive a list of messages."
   ]
  },
  {
   "cell_type": "code",
   "execution_count": null,
   "metadata": {},
   "outputs": [],
   "source": [
    "print(agent(['Привет', 'Мне нужен личный кабинет', 'Пока', 'бла бла бла']))"
   ]
  },
  {
   "cell_type": "markdown",
   "metadata": {},
   "source": [
    "In order to connect to Alice we need an ssl key and a certificate. Replace `<MACHINE_IP_ADDRESS>` with an actual IP address or a domain name of your server."
   ]
  },
  {
   "cell_type": "code",
   "execution_count": null,
   "metadata": {},
   "outputs": [],
   "source": [
    "!openssl req -new -newkey rsa:4096 -days 365 -nodes -x509 -subj \"/CN=<MACHINE_IP_ADDRESS>\" -keyout my.key -out my.crt"
   ]
  },
  {
   "cell_type": "code",
   "execution_count": null,
   "metadata": {},
   "outputs": [],
   "source": [
    "from utils.alice import start_agent_server\n",
    "\n",
    "start_agent_server(agent, host='0.0.0.0', port=5000, endpoint='/faq', ssl_key='my.key', ssl_cert='my.crt')"
   ]
  },
  {
   "cell_type": "markdown",
   "metadata": {},
   "source": [
    "Now you can specify webhook (`<MACHINE_IP_ADDRESS>:5000/faq`) in [Yandex.Alice skill settings](https://dialogs.yandex.ru/developer/) and test it!\n"
   ]
  },
  {
   "cell_type": "markdown",
   "metadata": {},
   "source": [
    "# Useful links\n",
    "\n",
    "[DeepPavlov repository](https://github.com/deepmipt/DeepPavlov)\n",
    "\n",
    "[DeepPavlov demo page](https://demo.ipavlov.ai)\n",
    "\n",
    "[DeepPavlov documentation](https://docs.deeppavlov.ai)\n",
    "\n",
    "[DeepPavlov blog](https://medium.com/deeppavlov)"
   ]
  }
 ],
 "metadata": {
  "kernelspec": {
   "display_name": "Python 3",
   "language": "python",
   "name": "python3"
  },
  "language_info": {
   "codemirror_mode": {
    "name": "ipython",
    "version": 3
   },
   "file_extension": ".py",
   "mimetype": "text/x-python",
   "name": "python",
   "nbconvert_exporter": "python",
   "pygments_lexer": "ipython3",
   "version": "3.6.8"
  }
 },
 "nbformat": 4,
 "nbformat_minor": 2
}
